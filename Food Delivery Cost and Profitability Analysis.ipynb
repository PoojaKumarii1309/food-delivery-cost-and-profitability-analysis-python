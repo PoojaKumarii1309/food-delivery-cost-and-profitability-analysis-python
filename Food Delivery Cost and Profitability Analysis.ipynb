{
 "cells": [
  {
   "cell_type": "markdown",
   "id": "94f82a25",
   "metadata": {},
   "source": [
    "# Food Delivery Cost and Profitability Analysis (Python)\n"
   ]
  },
  {
   "cell_type": "markdown",
   "id": "19786863",
   "metadata": {},
   "source": [
    "## Food Delivery Cost and Profitability Analysis is a comprehensive evaluation aimed at understanding and optimizing the financial dynamics of a food delivery operation. The goal is to identify areas where the service can reduce costs, increase revenue, and implement pricing or commission strategies that enhance profitability.\n"
   ]
  },
  {
   "cell_type": "markdown",
   "id": "84402869",
   "metadata": {},
   "source": [
    "###  Importing the necessary Python libraries and Dataset:\n"
   ]
  },
  {
   "cell_type": "code",
   "execution_count": 11,
   "id": "74695ae7",
   "metadata": {},
   "outputs": [
    {
     "name": "stdout",
     "output_type": "stream",
     "text": [
      "   Order ID Customer ID Restaurant ID  Order Date and Time  \\\n",
      "0         1       C8270         R2924  2024-02-01 01:11:52   \n",
      "1         2       C1860         R2054  2024-02-02 22:11:04   \n",
      "2         3       C6390         R2870  2024-01-31 05:54:35   \n",
      "3         4       C6191         R2642  2024-01-16 22:52:49   \n",
      "4         5       C6734         R2799  2024-01-29 01:19:30   \n",
      "\n",
      "  Delivery Date and Time  Order Value  Delivery Fee    Payment Method  \\\n",
      "0    2024-02-01 02:39:52         1914             0       Credit Card   \n",
      "1    2024-02-02 22:46:04          986            40    Digital Wallet   \n",
      "2    2024-01-31 06:52:35          937            30  Cash on Delivery   \n",
      "3    2024-01-16 23:38:49         1463            50  Cash on Delivery   \n",
      "4    2024-01-29 02:48:30         1992            30  Cash on Delivery   \n",
      "\n",
      "  Discounts and Offers  Commission Fee  Payment Processing Fee  \\\n",
      "0            5% on App             150                      47   \n",
      "1                  10%             198                      23   \n",
      "2         15% New User             195                      45   \n",
      "3                  NaN             146                      27   \n",
      "4         50 off Promo             130                      50   \n",
      "\n",
      "   Refunds/Chargebacks  \n",
      "0                    0  \n",
      "1                    0  \n",
      "2                    0  \n",
      "3                    0  \n",
      "4                    0  \n"
     ]
    }
   ],
   "source": [
    "import pandas as pd\n",
    "\n",
    "# Correct path with double backslashes or as a raw string\n",
    "dataset = r\"D:\\Github\\food-delivery-cost-and-profitability-analysis-python\\food_orders_new_delhi.csv\"\n",
    "\n",
    "# Load the CSV file\n",
    "food_orders = pd.read_csv(dataset)\n",
    "\n",
    "# Display the first few rows of the dataframe\n",
    "print(food_orders.head())\n"
   ]
  },
  {
   "cell_type": "code",
   "execution_count": 12,
   "id": "ea77f690",
   "metadata": {},
   "outputs": [
    {
     "name": "stdout",
     "output_type": "stream",
     "text": [
      "<class 'pandas.core.frame.DataFrame'>\n",
      "RangeIndex: 1000 entries, 0 to 999\n",
      "Data columns (total 12 columns):\n",
      " #   Column                  Non-Null Count  Dtype \n",
      "---  ------                  --------------  ----- \n",
      " 0   Order ID                1000 non-null   int64 \n",
      " 1   Customer ID             1000 non-null   object\n",
      " 2   Restaurant ID           1000 non-null   object\n",
      " 3   Order Date and Time     1000 non-null   object\n",
      " 4   Delivery Date and Time  1000 non-null   object\n",
      " 5   Order Value             1000 non-null   int64 \n",
      " 6   Delivery Fee            1000 non-null   int64 \n",
      " 7   Payment Method          1000 non-null   object\n",
      " 8   Discounts and Offers    815 non-null    object\n",
      " 9   Commission Fee          1000 non-null   int64 \n",
      " 10  Payment Processing Fee  1000 non-null   int64 \n",
      " 11  Refunds/Chargebacks     1000 non-null   int64 \n",
      "dtypes: int64(6), object(6)\n",
      "memory usage: 93.9+ KB\n",
      "None\n"
     ]
    }
   ],
   "source": [
    "print(food_orders.info())"
   ]
  },
  {
   "cell_type": "markdown",
   "id": "2d64a779",
   "metadata": {},
   "source": [
    "### Data Cleaning and Preparation Steps\n",
    "1.Convert Date Columns to Datetime Format\n",
    "2.Convert Discounts and Offers to Numeric\n",
    "3.Ensure Monetary Values are in a Suitable Format"
   ]
  },
  {
   "cell_type": "code",
   "execution_count": 16,
   "id": "e1905034",
   "metadata": {},
   "outputs": [
    {
     "name": "stdout",
     "output_type": "stream",
     "text": [
      "185\n"
     ]
    },
    {
     "ename": "KeyError",
     "evalue": "\"['Discount Amount'] not in index\"",
     "output_type": "error",
     "traceback": [
      "\u001b[1;31m---------------------------------------------------------------------------\u001b[0m",
      "\u001b[1;31mKeyError\u001b[0m                                  Traceback (most recent call last)",
      "Cell \u001b[1;32mIn[16], line 43\u001b[0m\n\u001b[0;32m     40\u001b[0m food_orders[\u001b[38;5;124m'\u001b[39m\u001b[38;5;124mDiscount Percentage\u001b[39m\u001b[38;5;124m'\u001b[39m] \u001b[38;5;241m=\u001b[39m food_orders[\u001b[38;5;124m'\u001b[39m\u001b[38;5;124mDiscounts and Offers\u001b[39m\u001b[38;5;124m'\u001b[39m]\u001b[38;5;241m.\u001b[39mapply(\u001b[38;5;28;01mlambda\u001b[39;00m x: extract_discount(x))\n\u001b[0;32m     42\u001b[0m \u001b[38;5;66;03m# Continue with the rest of your calculations...\u001b[39;00m\n\u001b[1;32m---> 43\u001b[0m \u001b[38;5;28mprint\u001b[39m(\u001b[43mfood_orders\u001b[49m\u001b[43m[\u001b[49m\u001b[43m[\u001b[49m\u001b[38;5;124;43m'\u001b[39;49m\u001b[38;5;124;43mOrder Value\u001b[39;49m\u001b[38;5;124;43m'\u001b[39;49m\u001b[43m,\u001b[49m\u001b[43m \u001b[49m\u001b[38;5;124;43m'\u001b[39;49m\u001b[38;5;124;43mDiscounts and Offers\u001b[39;49m\u001b[38;5;124;43m'\u001b[39;49m\u001b[43m,\u001b[49m\u001b[43m \u001b[49m\u001b[38;5;124;43m'\u001b[39;49m\u001b[38;5;124;43mDiscount Percentage\u001b[39;49m\u001b[38;5;124;43m'\u001b[39;49m\u001b[43m,\u001b[49m\u001b[43m \u001b[49m\u001b[38;5;124;43m'\u001b[39;49m\u001b[38;5;124;43mDiscount Amount\u001b[39;49m\u001b[38;5;124;43m'\u001b[39;49m\u001b[43m]\u001b[49m\u001b[43m]\u001b[49m\u001b[38;5;241m.\u001b[39mhead(), food_orders\u001b[38;5;241m.\u001b[39mdtypes)\n",
      "File \u001b[1;32m~\\AppData\\Local\\Programs\\Python\\Python311\\Lib\\site-packages\\pandas\\core\\frame.py:3767\u001b[0m, in \u001b[0;36mDataFrame.__getitem__\u001b[1;34m(self, key)\u001b[0m\n\u001b[0;32m   3765\u001b[0m     \u001b[38;5;28;01mif\u001b[39;00m is_iterator(key):\n\u001b[0;32m   3766\u001b[0m         key \u001b[38;5;241m=\u001b[39m \u001b[38;5;28mlist\u001b[39m(key)\n\u001b[1;32m-> 3767\u001b[0m     indexer \u001b[38;5;241m=\u001b[39m \u001b[38;5;28;43mself\u001b[39;49m\u001b[38;5;241;43m.\u001b[39;49m\u001b[43mcolumns\u001b[49m\u001b[38;5;241;43m.\u001b[39;49m\u001b[43m_get_indexer_strict\u001b[49m\u001b[43m(\u001b[49m\u001b[43mkey\u001b[49m\u001b[43m,\u001b[49m\u001b[43m \u001b[49m\u001b[38;5;124;43m\"\u001b[39;49m\u001b[38;5;124;43mcolumns\u001b[39;49m\u001b[38;5;124;43m\"\u001b[39;49m\u001b[43m)\u001b[49m[\u001b[38;5;241m1\u001b[39m]\n\u001b[0;32m   3769\u001b[0m \u001b[38;5;66;03m# take() does not accept boolean indexers\u001b[39;00m\n\u001b[0;32m   3770\u001b[0m \u001b[38;5;28;01mif\u001b[39;00m \u001b[38;5;28mgetattr\u001b[39m(indexer, \u001b[38;5;124m\"\u001b[39m\u001b[38;5;124mdtype\u001b[39m\u001b[38;5;124m\"\u001b[39m, \u001b[38;5;28;01mNone\u001b[39;00m) \u001b[38;5;241m==\u001b[39m \u001b[38;5;28mbool\u001b[39m:\n",
      "File \u001b[1;32m~\\AppData\\Local\\Programs\\Python\\Python311\\Lib\\site-packages\\pandas\\core\\indexes\\base.py:5877\u001b[0m, in \u001b[0;36mIndex._get_indexer_strict\u001b[1;34m(self, key, axis_name)\u001b[0m\n\u001b[0;32m   5874\u001b[0m \u001b[38;5;28;01melse\u001b[39;00m:\n\u001b[0;32m   5875\u001b[0m     keyarr, indexer, new_indexer \u001b[38;5;241m=\u001b[39m \u001b[38;5;28mself\u001b[39m\u001b[38;5;241m.\u001b[39m_reindex_non_unique(keyarr)\n\u001b[1;32m-> 5877\u001b[0m \u001b[38;5;28;43mself\u001b[39;49m\u001b[38;5;241;43m.\u001b[39;49m\u001b[43m_raise_if_missing\u001b[49m\u001b[43m(\u001b[49m\u001b[43mkeyarr\u001b[49m\u001b[43m,\u001b[49m\u001b[43m \u001b[49m\u001b[43mindexer\u001b[49m\u001b[43m,\u001b[49m\u001b[43m \u001b[49m\u001b[43maxis_name\u001b[49m\u001b[43m)\u001b[49m\n\u001b[0;32m   5879\u001b[0m keyarr \u001b[38;5;241m=\u001b[39m \u001b[38;5;28mself\u001b[39m\u001b[38;5;241m.\u001b[39mtake(indexer)\n\u001b[0;32m   5880\u001b[0m \u001b[38;5;28;01mif\u001b[39;00m \u001b[38;5;28misinstance\u001b[39m(key, Index):\n\u001b[0;32m   5881\u001b[0m     \u001b[38;5;66;03m# GH 42790 - Preserve name from an Index\u001b[39;00m\n",
      "File \u001b[1;32m~\\AppData\\Local\\Programs\\Python\\Python311\\Lib\\site-packages\\pandas\\core\\indexes\\base.py:5941\u001b[0m, in \u001b[0;36mIndex._raise_if_missing\u001b[1;34m(self, key, indexer, axis_name)\u001b[0m\n\u001b[0;32m   5938\u001b[0m     \u001b[38;5;28;01mraise\u001b[39;00m \u001b[38;5;167;01mKeyError\u001b[39;00m(\u001b[38;5;124mf\u001b[39m\u001b[38;5;124m\"\u001b[39m\u001b[38;5;124mNone of [\u001b[39m\u001b[38;5;132;01m{\u001b[39;00mkey\u001b[38;5;132;01m}\u001b[39;00m\u001b[38;5;124m] are in the [\u001b[39m\u001b[38;5;132;01m{\u001b[39;00maxis_name\u001b[38;5;132;01m}\u001b[39;00m\u001b[38;5;124m]\u001b[39m\u001b[38;5;124m\"\u001b[39m)\n\u001b[0;32m   5940\u001b[0m not_found \u001b[38;5;241m=\u001b[39m \u001b[38;5;28mlist\u001b[39m(ensure_index(key)[missing_mask\u001b[38;5;241m.\u001b[39mnonzero()[\u001b[38;5;241m0\u001b[39m]]\u001b[38;5;241m.\u001b[39munique())\n\u001b[1;32m-> 5941\u001b[0m \u001b[38;5;28;01mraise\u001b[39;00m \u001b[38;5;167;01mKeyError\u001b[39;00m(\u001b[38;5;124mf\u001b[39m\u001b[38;5;124m\"\u001b[39m\u001b[38;5;132;01m{\u001b[39;00mnot_found\u001b[38;5;132;01m}\u001b[39;00m\u001b[38;5;124m not in index\u001b[39m\u001b[38;5;124m\"\u001b[39m)\n",
      "\u001b[1;31mKeyError\u001b[0m: \"['Discount Amount'] not in index\""
     ]
    }
   ],
   "source": [
    "import pandas as pd\n",
    "from datetime import datetime\n",
    "\n",
    "# Convert date and time columns to datetime\n",
    "food_orders['Order Date and Time'] = pd.to_datetime(food_orders['Order Date and Time'])\n",
    "food_orders['Delivery Date and Time'] = pd.to_datetime(food_orders['Delivery Date and Time'])\n",
    "\n",
    "# Function to extract numeric values from 'Discounts and Offers' string\n",
    "def extract_discount(discount_str):\n",
    "    if not isinstance(discount_str, str):  # Check for non-string values\n",
    "        return 0.0  # Return 0.0 for non-string values\n",
    "    if 'off' in discount_str:\n",
    "        return float(discount_str.split(' ')[0])\n",
    "    elif '%' in discount_str:\n",
    "        return float(discount_str.split('%')[0])\n",
    "    else:\n",
    "        return 0.0\n",
    "\n",
    "# Apply the function to create a new 'Discount Percentage' column\n",
    "food_orders['Discount Percentage'] = food_orders['Discounts and Offers'].apply(lambda x: extract_discount(x))\n",
    "\n",
    "# For percentage discounts, calculate the discount amount based on the order value\n",
    "food_orders['Discount Amount'] = food_orders.apply(lambda x: (x['Order Value'] * x['Discount Percentage'] / 100)\n",
    "                                                   if x['Discount Percentage'] > 1\n",
    "                                                   else x['Discount Percentage'], axis=1)\n",
    "\n",
    "# Adjust 'Discount Amount' for fixed discounts directly specified in the 'Discounts and Offers' column\n",
    "food_orders['Discount Amount'] = food_orders.apply(lambda x: x['Discount Amount'] if x['Discount Percentage'] <= 1\n",
    "                                                   else x['Order Value'] * x['Discount Percentage'] / 100, axis=1)\n",
    "\n",
    "# Display the results\n",
    "print(food_orders[['Order Value', 'Discounts and Offers', 'Discount Percentage', 'Discount Amount']].head())\n",
    "print(food_orders.dtypes)\n"
   ]
  },
  {
   "cell_type": "code",
   "execution_count": null,
   "id": "2da00455",
   "metadata": {},
   "outputs": [],
   "source": []
  }
 ],
 "metadata": {
  "kernelspec": {
   "display_name": "Python 3 (ipykernel)",
   "language": "python",
   "name": "python3"
  },
  "language_info": {
   "codemirror_mode": {
    "name": "ipython",
    "version": 3
   },
   "file_extension": ".py",
   "mimetype": "text/x-python",
   "name": "python",
   "nbconvert_exporter": "python",
   "pygments_lexer": "ipython3",
   "version": "3.11.4"
  }
 },
 "nbformat": 4,
 "nbformat_minor": 5
}
